{
 "cells": [
  {
   "cell_type": "markdown",
   "metadata": {},
   "source": [
    "# Electricity time series data from Tepco"
   ]
  },
  {
   "cell_type": "code",
   "execution_count": 98,
   "metadata": {},
   "outputs": [
    {
     "name": "stdout",
     "output_type": "stream",
     "text": [
      "Populating the interactive namespace from numpy and matplotlib\n"
     ]
    },
    {
     "name": "stderr",
     "output_type": "stream",
     "text": [
      "/Users/annette/.local/share/virtualenvs/covid-8MZFs_Ml/lib/python3.8/site-packages/IPython/core/magics/pylab.py:159: UserWarning:\n",
      "\n",
      "pylab import has clobbered these variables: ['datetime']\n",
      "`%matplotlib` prevents importing * from pylab and numpy\n",
      "\n"
     ]
    }
   ],
   "source": [
    "%pylab inline\n",
    "import pandas as pd\n",
    "import seaborn as sns\n",
    "from io import StringIO\n",
    "import requests\n",
    "import json\n",
    "import plotly.express as px\n",
    "import ipywidgets as widgets\n",
    "from datetime import datetime\n",
    "import pytz\n",
    "import matplotlib.dates as mdates\n"
   ]
  },
  {
   "cell_type": "markdown",
   "metadata": {},
   "source": [
    "# sources"
   ]
  },
  {
   "cell_type": "markdown",
   "metadata": {},
   "source": [
    "General time series tutorial\n",
    "https://jakevdp.github.io/PythonDataScienceHandbook/03.11-working-with-time-series.html\n",
    "https://www.dataquest.io/blog/tutorial-time-series-analysis-with-pandas/\n",
    "\n",
    "Kaggle forcasting\n",
    "https://www.kaggle.com/apoorvabhide/energy-consumption-time-series-forecasting-in-r"
   ]
  },
  {
   "cell_type": "code",
   "execution_count": 99,
   "metadata": {},
   "outputs": [],
   "source": [
    "df19 = pd.read_csv(\"data/juyo-2019.csv\")\n",
    "df20 = pd.read_csv(\"data/juyo-2020.csv\")\n",
    "df19[\"daytime\"] = pd.to_datetime(df19[\"DATE\"]+\" \"+df19[\"TIME\"], format=\"%Y/%m/%d %H:%M\")\n",
    "df20[\"daytime\"] = pd.to_datetime(df20[\"DATE\"]+\" \"+df20[\"TIME\"], format=\"%Y/%m/%d %H:%M\")\n",
    "df20[\"実績(万kW)\"]\n",
    "\n",
    "df20 = df20.set_index('daytime')\n",
    "df19 = df19.set_index('daytime')\n",
    "\n",
    "df = pd.concat([df19, df20], sort=True)\n",
    "\n",
    "# \"実績(万kW)\" = demand in 10MW\n",
    "df = df.rename(columns={\"実績(万kW)\": \"demand\", \"TIME\": 'time', \"DATE\": \"date\"}, errors=\"raise\")\n",
    "# bring demand to MW (not 10MW)\n",
    "df[\"demand\"]=df[\"demand\"]*10\n"
   ]
  },
  {
   "cell_type": "code",
   "execution_count": 100,
   "metadata": {},
   "outputs": [
    {
     "data": {
      "text/html": [
       "<div>\n",
       "<style scoped>\n",
       "    .dataframe tbody tr th:only-of-type {\n",
       "        vertical-align: middle;\n",
       "    }\n",
       "\n",
       "    .dataframe tbody tr th {\n",
       "        vertical-align: top;\n",
       "    }\n",
       "\n",
       "    .dataframe thead th {\n",
       "        text-align: right;\n",
       "    }\n",
       "</style>\n",
       "<table border=\"1\" class=\"dataframe\">\n",
       "  <thead>\n",
       "    <tr style=\"text-align: right;\">\n",
       "      <th></th>\n",
       "      <th>date</th>\n",
       "      <th>time</th>\n",
       "      <th>demand</th>\n",
       "    </tr>\n",
       "    <tr>\n",
       "      <th>daytime</th>\n",
       "      <th></th>\n",
       "      <th></th>\n",
       "      <th></th>\n",
       "    </tr>\n",
       "  </thead>\n",
       "  <tbody>\n",
       "    <tr>\n",
       "      <th>2019-01-01 00:00:00</th>\n",
       "      <td>2019/1/1</td>\n",
       "      <td>0:00</td>\n",
       "      <td>30170</td>\n",
       "    </tr>\n",
       "    <tr>\n",
       "      <th>2019-01-01 01:00:00</th>\n",
       "      <td>2019/1/1</td>\n",
       "      <td>1:00</td>\n",
       "      <td>28490</td>\n",
       "    </tr>\n",
       "    <tr>\n",
       "      <th>2019-01-01 02:00:00</th>\n",
       "      <td>2019/1/1</td>\n",
       "      <td>2:00</td>\n",
       "      <td>27300</td>\n",
       "    </tr>\n",
       "    <tr>\n",
       "      <th>2019-01-01 03:00:00</th>\n",
       "      <td>2019/1/1</td>\n",
       "      <td>3:00</td>\n",
       "      <td>26360</td>\n",
       "    </tr>\n",
       "    <tr>\n",
       "      <th>2019-01-01 04:00:00</th>\n",
       "      <td>2019/1/1</td>\n",
       "      <td>4:00</td>\n",
       "      <td>25790</td>\n",
       "    </tr>\n",
       "    <tr>\n",
       "      <th>...</th>\n",
       "      <td>...</td>\n",
       "      <td>...</td>\n",
       "      <td>...</td>\n",
       "    </tr>\n",
       "    <tr>\n",
       "      <th>2020-04-02 19:00:00</th>\n",
       "      <td>2020/4/2</td>\n",
       "      <td>19:00</td>\n",
       "      <td>35530</td>\n",
       "    </tr>\n",
       "    <tr>\n",
       "      <th>2020-04-02 20:00:00</th>\n",
       "      <td>2020/4/2</td>\n",
       "      <td>20:00</td>\n",
       "      <td>34560</td>\n",
       "    </tr>\n",
       "    <tr>\n",
       "      <th>2020-04-02 21:00:00</th>\n",
       "      <td>2020/4/2</td>\n",
       "      <td>21:00</td>\n",
       "      <td>33410</td>\n",
       "    </tr>\n",
       "    <tr>\n",
       "      <th>2020-04-02 22:00:00</th>\n",
       "      <td>2020/4/2</td>\n",
       "      <td>22:00</td>\n",
       "      <td>31930</td>\n",
       "    </tr>\n",
       "    <tr>\n",
       "      <th>2020-04-02 23:00:00</th>\n",
       "      <td>2020/4/2</td>\n",
       "      <td>23:00</td>\n",
       "      <td>29970</td>\n",
       "    </tr>\n",
       "  </tbody>\n",
       "</table>\n",
       "<p>10992 rows × 3 columns</p>\n",
       "</div>"
      ],
      "text/plain": [
       "                         date   time  demand\n",
       "daytime                                     \n",
       "2019-01-01 00:00:00  2019/1/1   0:00   30170\n",
       "2019-01-01 01:00:00  2019/1/1   1:00   28490\n",
       "2019-01-01 02:00:00  2019/1/1   2:00   27300\n",
       "2019-01-01 03:00:00  2019/1/1   3:00   26360\n",
       "2019-01-01 04:00:00  2019/1/1   4:00   25790\n",
       "...                       ...    ...     ...\n",
       "2020-04-02 19:00:00  2020/4/2  19:00   35530\n",
       "2020-04-02 20:00:00  2020/4/2  20:00   34560\n",
       "2020-04-02 21:00:00  2020/4/2  21:00   33410\n",
       "2020-04-02 22:00:00  2020/4/2  22:00   31930\n",
       "2020-04-02 23:00:00  2020/4/2  23:00   29970\n",
       "\n",
       "[10992 rows x 3 columns]"
      ]
     },
     "execution_count": 100,
     "metadata": {},
     "output_type": "execute_result"
    }
   ],
   "source": [
    "df"
   ]
  },
  {
   "cell_type": "code",
   "execution_count": 101,
   "metadata": {},
   "outputs": [],
   "source": [
    "df['month'] = df.index.month\n",
    "df['weekday'] = df.index.weekday\n",
    "df['year']= df.index.year\n",
    "#sns.lineplot(x=df, y=\"demand\", ci=95, data=df)"
   ]
  },
  {
   "cell_type": "code",
   "execution_count": 118,
   "metadata": {},
   "outputs": [
    {
     "data": {
      "text/html": [
       "<div>\n",
       "<style scoped>\n",
       "    .dataframe tbody tr th:only-of-type {\n",
       "        vertical-align: middle;\n",
       "    }\n",
       "\n",
       "    .dataframe tbody tr th {\n",
       "        vertical-align: top;\n",
       "    }\n",
       "\n",
       "    .dataframe thead th {\n",
       "        text-align: right;\n",
       "    }\n",
       "</style>\n",
       "<table border=\"1\" class=\"dataframe\">\n",
       "  <thead>\n",
       "    <tr style=\"text-align: right;\">\n",
       "      <th></th>\n",
       "      <th>demand</th>\n",
       "      <th>month</th>\n",
       "      <th>weekday</th>\n",
       "      <th>year</th>\n",
       "    </tr>\n",
       "    <tr>\n",
       "      <th>daytime</th>\n",
       "      <th></th>\n",
       "      <th></th>\n",
       "      <th></th>\n",
       "      <th></th>\n",
       "    </tr>\n",
       "  </thead>\n",
       "  <tbody>\n",
       "    <tr>\n",
       "      <th>2019-01-06</th>\n",
       "      <td>4404120</td>\n",
       "      <td>144</td>\n",
       "      <td>504</td>\n",
       "      <td>290736</td>\n",
       "    </tr>\n",
       "    <tr>\n",
       "      <th>2019-01-07</th>\n",
       "      <td>0</td>\n",
       "      <td>0</td>\n",
       "      <td>0</td>\n",
       "      <td>0</td>\n",
       "    </tr>\n",
       "    <tr>\n",
       "      <th>2019-01-08</th>\n",
       "      <td>0</td>\n",
       "      <td>0</td>\n",
       "      <td>0</td>\n",
       "      <td>0</td>\n",
       "    </tr>\n",
       "    <tr>\n",
       "      <th>2019-01-09</th>\n",
       "      <td>0</td>\n",
       "      <td>0</td>\n",
       "      <td>0</td>\n",
       "      <td>0</td>\n",
       "    </tr>\n",
       "    <tr>\n",
       "      <th>2019-01-10</th>\n",
       "      <td>0</td>\n",
       "      <td>0</td>\n",
       "      <td>0</td>\n",
       "      <td>0</td>\n",
       "    </tr>\n",
       "    <tr>\n",
       "      <th>...</th>\n",
       "      <td>...</td>\n",
       "      <td>...</td>\n",
       "      <td>...</td>\n",
       "      <td>...</td>\n",
       "    </tr>\n",
       "    <tr>\n",
       "      <th>2020-04-01</th>\n",
       "      <td>0</td>\n",
       "      <td>0</td>\n",
       "      <td>0</td>\n",
       "      <td>0</td>\n",
       "    </tr>\n",
       "    <tr>\n",
       "      <th>2020-04-02</th>\n",
       "      <td>0</td>\n",
       "      <td>0</td>\n",
       "      <td>0</td>\n",
       "      <td>0</td>\n",
       "    </tr>\n",
       "    <tr>\n",
       "      <th>2020-04-03</th>\n",
       "      <td>0</td>\n",
       "      <td>0</td>\n",
       "      <td>0</td>\n",
       "      <td>0</td>\n",
       "    </tr>\n",
       "    <tr>\n",
       "      <th>2020-04-04</th>\n",
       "      <td>0</td>\n",
       "      <td>0</td>\n",
       "      <td>0</td>\n",
       "      <td>0</td>\n",
       "    </tr>\n",
       "    <tr>\n",
       "      <th>2020-04-05</th>\n",
       "      <td>1642910</td>\n",
       "      <td>144</td>\n",
       "      <td>24</td>\n",
       "      <td>96960</td>\n",
       "    </tr>\n",
       "  </tbody>\n",
       "</table>\n",
       "<p>456 rows × 4 columns</p>\n",
       "</div>"
      ],
      "text/plain": [
       "             demand  month  weekday    year\n",
       "daytime                                    \n",
       "2019-01-06  4404120    144      504  290736\n",
       "2019-01-07        0      0        0       0\n",
       "2019-01-08        0      0        0       0\n",
       "2019-01-09        0      0        0       0\n",
       "2019-01-10        0      0        0       0\n",
       "...             ...    ...      ...     ...\n",
       "2020-04-01        0      0        0       0\n",
       "2020-04-02        0      0        0       0\n",
       "2020-04-03        0      0        0       0\n",
       "2020-04-04        0      0        0       0\n",
       "2020-04-05  1642910    144       24   96960\n",
       "\n",
       "[456 rows x 4 columns]"
      ]
     },
     "execution_count": 118,
     "metadata": {},
     "output_type": "execute_result"
    }
   ],
   "source": [
    "sns.set(rc={'figure.figsize':(11, 4)})\n",
    "df.head()\n",
    "daily = df.loc['2019-01-01':'2020-03-31'].resample('W').sum()\n",
    "df.loc['2019-03-01':'2020-04-02', 'demand']\n",
    "df19=df.loc['2019-03-01': '2019-04-02', 'demand']\n",
    "df20=df.loc['2020-03-01': '2020-04-02', 'demand']\n",
    "daily.tail()\n",
    "daily.resample('D').sum()"
   ]
  },
  {
   "cell_type": "code",
   "execution_count": 119,
   "metadata": {},
   "outputs": [
    {
     "data": {
      "text/plain": [
       "daytime\n",
       "2019-04-02 19:00:00    39300\n",
       "2019-04-02 20:00:00    38420\n",
       "2019-04-02 21:00:00    37190\n",
       "2019-04-02 22:00:00    35360\n",
       "2019-04-02 23:00:00    32920\n",
       "Name: demand, dtype: int64"
      ]
     },
     "execution_count": 119,
     "metadata": {},
     "output_type": "execute_result"
    }
   ],
   "source": [
    "df19.tail()"
   ]
  },
  {
   "cell_type": "code",
   "execution_count": 120,
   "metadata": {},
   "outputs": [
    {
     "data": {
      "text/html": [
       "<div>\n",
       "<style scoped>\n",
       "    .dataframe tbody tr th:only-of-type {\n",
       "        vertical-align: middle;\n",
       "    }\n",
       "\n",
       "    .dataframe tbody tr th {\n",
       "        vertical-align: top;\n",
       "    }\n",
       "\n",
       "    .dataframe thead th {\n",
       "        text-align: right;\n",
       "    }\n",
       "</style>\n",
       "<table border=\"1\" class=\"dataframe\">\n",
       "  <thead>\n",
       "    <tr style=\"text-align: right;\">\n",
       "      <th></th>\n",
       "      <th>demand</th>\n",
       "      <th>month</th>\n",
       "      <th>weekday</th>\n",
       "      <th>year</th>\n",
       "    </tr>\n",
       "    <tr>\n",
       "      <th>daytime</th>\n",
       "      <th></th>\n",
       "      <th></th>\n",
       "      <th></th>\n",
       "      <th></th>\n",
       "    </tr>\n",
       "  </thead>\n",
       "  <tbody>\n",
       "    <tr>\n",
       "      <th>2020-03-27</th>\n",
       "      <td>724280</td>\n",
       "      <td>72</td>\n",
       "      <td>96</td>\n",
       "      <td>48480</td>\n",
       "    </tr>\n",
       "    <tr>\n",
       "      <th>2020-03-28</th>\n",
       "      <td>653340</td>\n",
       "      <td>72</td>\n",
       "      <td>120</td>\n",
       "      <td>48480</td>\n",
       "    </tr>\n",
       "    <tr>\n",
       "      <th>2020-03-29</th>\n",
       "      <td>781570</td>\n",
       "      <td>72</td>\n",
       "      <td>144</td>\n",
       "      <td>48480</td>\n",
       "    </tr>\n",
       "    <tr>\n",
       "      <th>2020-03-30</th>\n",
       "      <td>833830</td>\n",
       "      <td>72</td>\n",
       "      <td>0</td>\n",
       "      <td>48480</td>\n",
       "    </tr>\n",
       "    <tr>\n",
       "      <th>2020-03-31</th>\n",
       "      <td>809080</td>\n",
       "      <td>72</td>\n",
       "      <td>24</td>\n",
       "      <td>48480</td>\n",
       "    </tr>\n",
       "  </tbody>\n",
       "</table>\n",
       "</div>"
      ],
      "text/plain": [
       "            demand  month  weekday   year\n",
       "daytime                                  \n",
       "2020-03-27  724280     72       96  48480\n",
       "2020-03-28  653340     72      120  48480\n",
       "2020-03-29  781570     72      144  48480\n",
       "2020-03-30  833830     72        0  48480\n",
       "2020-03-31  809080     72       24  48480"
      ]
     },
     "execution_count": 120,
     "metadata": {},
     "output_type": "execute_result"
    }
   ],
   "source": [
    "weekly = df.loc['2019-01-01':'2020-03-31']\n",
    "\n",
    "#daily = daily.loc['2019-01-01':'2019-03-31', 'demand']\n",
    "weekly = weekly.resample('D').sum()\n",
    "#daily.loc['2019-01-01':'2019-04-02', 'demand']\n",
    "#df.loc['2019-03-01':'2020-04-02', 'demand']\n",
    "weekly.tail()"
   ]
  },
  {
   "cell_type": "code",
   "execution_count": 125,
   "metadata": {},
   "outputs": [
    {
     "data": {
      "image/png": "[encoded data removed]",
      "text/plain": [
       "<Figure size 792x288 with 1 Axes>"
      ]
     },
     "metadata": {},
     "output_type": "display_data"
    }
   ],
   "source": [
    "fig, ax = plt.subplots()\n",
    "ax.plot(daily.loc['2019-11-01':'2020-04-30', 'demand'], marker='o', linestyle='-')\n",
    "ax.set_ylabel('Daily Consumption (GWh)')\n",
    "ax.set_title('Jan-Mar 2020 Electricity Consumption')\n",
    "# Set x-axis major ticks to weekly interval, on Mondays\n",
    "ax.xaxis.set_major_locator(mdates.WeekdayLocator(byweekday=mdates.MONDAY))\n",
    "# Format x-tick labels as 3-letter month name and day number\n",
    "ax.xaxis.set_major_formatter(mdates.DateFormatter('%b %d'));\n"
   ]
  },
  {
   "cell_type": "code",
   "execution_count": 122,
   "metadata": {},
   "outputs": [
    {
     "data": {
      "image/png": "[encoded data removed]",
      "text/plain": [
       "<Figure size 792x288 with 1 Axes>"
      ]
     },
     "metadata": {},
     "output_type": "display_data"
    }
   ],
   "source": [
    "# ax = df.loc['2019', 'demand'].plot()\n",
    "# ax.set_ylabel('Daily Consumption (MWh)');\n",
    "\n",
    "fig, ax = plt.subplots()\n",
    "ax.plot(daily.loc['2019-01-01':'2019-03-31', 'demand'], marker='o', linestyle='-')\n",
    "ax.set_ylabel('Daily Consumption (GWh)')\n",
    "ax.set_title('Jan-Mar 2019 Electricity Consumption')\n",
    "# Set x-axis major ticks to weekly interval, on Mondays\n",
    "ax.xaxis.set_major_locator(mdates.WeekdayLocator(byweekday=mdates.MONDAY))\n",
    "# Format x-tick labels as 3-letter month name and day number\n",
    "ax.xaxis.set_major_formatter(mdates.DateFormatter('%b %d'));\n"
   ]
  },
  {
   "cell_type": "code",
   "execution_count": 114,
   "metadata": {},
   "outputs": [
    {
     "data": {
      "image/png": "[encoded data removed]",
      "text/plain": [
       "<Figure size 792x288 with 1 Axes>"
      ]
     },
     "metadata": {},
     "output_type": "display_data"
    }
   ],
   "source": [
    "df19=df.loc['2019-03-01':'2019-03-30', 'demand']\n",
    "df20=df.loc['2020-03-01':'2020-03-30', 'demand']\n",
    "df20\n",
    "by_weekday = df.groupby(df.index.dayofweek).mean()['demand']\n",
    "by_weekday.index = ['Mon', 'Tues', 'Wed', 'Thurs', 'Fri', 'Sat', 'Sun']\n",
    "by_weekday.plot(style=[':', '--', '-']);\n"
   ]
  },
  {
   "cell_type": "code",
   "execution_count": 115,
   "metadata": {},
   "outputs": [],
   "source": [
    "df19=daily.loc['2019-03-01':'2019-03-30', 'demand']\n",
    "df20=daily.loc['2020-03-01':'2020-03-30', 'demand']"
   ]
  },
  {
   "cell_type": "code",
   "execution_count": null,
   "metadata": {},
   "outputs": [],
   "source": []
  }
 ],
 "metadata": {
  "kernelspec": {
   "display_name": "Python 3",
   "language": "python",
   "name": "python3"
  },
  "language_info": {
   "codemirror_mode": {
    "name": "ipython",
    "version": 3
   },
   "file_extension": ".py",
   "mimetype": "text/x-python",
   "name": "python",
   "nbconvert_exporter": "python",
   "pygments_lexer": "ipython3",
   "version": "3.8.1"
  }
 },
 "nbformat": 4,
 "nbformat_minor": 4
}
