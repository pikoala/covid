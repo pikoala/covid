{
 "cells": [
  {
   "cell_type": "code",
   "execution_count": 1,
   "metadata": {
    "ExecuteTime": {
     "end_time": "2020-04-09T08:02:33.218210Z",
     "start_time": "2020-04-09T08:02:33.214458Z"
    }
   },
   "outputs": [],
   "source": [
    "import numpy as np\n",
    "import seaborn as sns\n",
    "import matplotlib.pyplot as plt\n",
    "from datetime import date\n",
    "import pandas as pd\n",
    "from pytrends.request import TrendReq\n",
    "from scipy.optimize import minimize\n",
    "import copy\n",
    "import time\n",
    "\n",
    "import pickle"
   ]
  },
  {
   "cell_type": "code",
   "execution_count": 2,
   "metadata": {
    "ExecuteTime": {
     "end_time": "2020-04-08T15:27:56.464794Z",
     "start_time": "2020-04-08T15:27:56.454099Z"
    }
   },
   "outputs": [],
   "source": [
    "sns.set(color_codes=True)\n",
    "tips = sns.load_dataset(\"tips\")"
   ]
  },
  {
   "cell_type": "code",
   "execution_count": 3,
   "metadata": {
    "ExecuteTime": {
     "end_time": "2020-04-09T08:22:46.846207Z",
     "start_time": "2020-04-09T08:22:46.839009Z"
    }
   },
   "outputs": [],
   "source": [
    "pops = {\"IT-65\":1311580,\n",
    "\"IT-77\":562869,\n",
    "\"IT-78\":1947131,\n",
    "\"IT-72\":5801692,\n",
    "\"IT-45\":4459477,\n",
    "\"IT-36\":1215220,\n",
    "\"IT-62\":5879082,\n",
    "\"IT-42\":1550640,\n",
    "\"IT-25\":10060574,\n",
    "\"IT-57\":1525271,\n",
    "\"IT-67\":305617,\n",
    "\"IT-21\":4356406,\n",
    "\"IT-75\":4029053,\n",
    "\"IT-88\":1639591,\n",
    "\"IT-82\":4999891,\n",
    "\"IT-52\":3729641,\n",
    "\"IT-32\":1072276,\n",
    "\"IT-55\":882015,\n",
    "\"IT-23\":125666,\n",
    "\"IT-34\":4905854\n",
    "       }\n",
    "\n",
    "\n",
    "codes = {\"IT-65\":\"Abruzzo\",\n",
    "\"IT-77\":\"Basilicata\",\n",
    "\"IT-78\":\"Calabria\",\n",
    "\"IT-72\":\"Campania\",\n",
    "\"IT-45\":\"Emilia-Romagna\",\n",
    "\"IT-62\":\"Lazio\",\n",
    "\"IT-42\":\"Liguria\",\n",
    "\"IT-25\":\"Lombardia\",\n",
    "\"IT-57\":\"Marche\",\n",
    "\"IT-67\":\"Molise\",\n",
    "\"IT-21\":\"Piemonte\",\n",
    "\"IT-75\":\"Puglia\",\n",
    "\"IT-52\":\"Toscana\",\n",
    "\"IT-55\":\"Umbria\",\n",
    "\"IT-34\":\"Veneto\",\n",
    "\"IT-36\":\"Friuli-Venezia Giulia\",\n",
    "\"IT-88\":\"Sardegna\",\n",
    "\"IT-82\":\"Sicilia\",\n",
    "\"IT-32\":\"Trentino-Alto Adige\",\n",
    "\"IT-23\":\"Valle d'Aosta\"}\n",
    "\n",
    "#codes = {\"IT-25\":\"Italia\"}\n",
    "\n",
    "inv_codes = {v: k for k, v in codes.items()}\n",
    "\n",
    "#kw_list =['coronavirus', 'covid', 'corona','virus']\n",
    "kw_list =['coronavirus']\n",
    "today = str(date.today())\n",
    "#, \"2020-02-10\", \"2020-02-21\"\n",
    "milestones = [\"2020-01-15\", \"2020-01-24\",\"2020-02-10\", today]\n",
    "#timeframes = [ \"2020-01-15 2020-01-23\", \"2020-01-23 2020-02-20\", \"2020-02-20 2020-02-21\", \"2020-02-21 \"+today ]"
   ]
  },
  {
   "cell_type": "code",
   "execution_count": null,
   "metadata": {},
   "outputs": [],
   "source": []
  },
  {
   "cell_type": "code",
   "execution_count": 4,
   "metadata": {
    "ExecuteTime": {
     "end_time": "2020-04-09T13:21:54.247484Z",
     "start_time": "2020-04-09T13:21:41.568498Z"
    },
    "scrolled": true
   },
   "outputs": [
    {
     "name": "stdout",
     "output_type": "stream",
     "text": [
      "POPW\n",
      "2020-01-15 2020-01-24\n",
      "\t Abruzzo\n",
      "\t Basilicata\n",
      "\t Calabria\n",
      "\t Campania\n",
      "\t Emilia-Romagna\n",
      "\t Lazio\n",
      "\t Liguria\n",
      "\t Lombardia\n",
      "\t Marche\n",
      "\t Molise\n",
      "\t Piemonte\n",
      "\t Puglia\n",
      "\t Toscana\n",
      "\t Umbria\n",
      "\t Veneto\n",
      "\t Friuli-Venezia Giulia\n",
      "\t Sardegna\n",
      "\t Sicilia\n",
      "\t Trentino-Alto Adige\n",
      "\t Valle d'Aosta\n",
      "2020-01-24 2020-02-10\n",
      "\t Abruzzo\n",
      "\t Basilicata\n",
      "\t Calabria\n",
      "\t Campania\n",
      "\t Emilia-Romagna\n",
      "\t Lazio\n",
      "\t Liguria\n",
      "\t Lombardia\n",
      "\t Marche\n",
      "\t Molise\n",
      "\t Piemonte\n",
      "\t Puglia\n",
      "\t Toscana\n",
      "\t Umbria\n",
      "\t Veneto\n",
      "\t Friuli-Venezia Giulia\n",
      "\t Sardegna\n",
      "\t Sicilia\n",
      "\t Trentino-Alto Adige\n",
      "\t Valle d'Aosta\n",
      "2020-02-10 2020-04-09\n",
      "\t Abruzzo\n",
      "\t Basilicata\n",
      "\t Calabria\n",
      "\t Campania\n",
      "\t Emilia-Romagna\n",
      "\t Lazio\n",
      "\t Liguria\n",
      "\t Lombardia\n",
      "\t Marche\n",
      "\t Molise\n",
      "\t Piemonte\n",
      "\t Puglia\n",
      "\t Toscana\n",
      "\t Umbria\n",
      "\t Veneto\n",
      "\t Friuli-Venezia Giulia\n",
      "\t Sardegna\n",
      "\t Sicilia\n",
      "\t Trentino-Alto Adige\n",
      "\t Valle d'Aosta\n"
     ]
    }
   ],
   "source": [
    "pytrend = TrendReq(timeout=(10,100),retries=10)\n",
    "\n",
    "raw_data_pop_w = {}\n",
    "it_raw_data_pop_w = {}\n",
    "\n",
    "print(\"POPW\")\n",
    "\n",
    "for i in range(1,len(milestones)):\n",
    "    timeframe = milestones[i-1] + \" \" + milestones[i]\n",
    "    print(timeframe)\n",
    "    c = \"IT\"\n",
    "    pytrend.build_payload(kw_list,geo=c,timeframe=timeframe)\n",
    "    if i == 1:\n",
    "        it_raw_data_pop_w = pytrend.interest_over_time().drop(\"isPartial\", axis=1)\n",
    "        it_raw_data_pop_w *= sum(pops.values())\n",
    "    else:\n",
    "        tmp = pytrend.interest_over_time().drop(\"isPartial\", axis=1)\n",
    "        tmp *= sum(pops.values())\n",
    "        tmp *= it_raw_data_pop_w[kw_list[0]].iloc[-1]/tmp[kw_list[0]].iloc[0]\n",
    "        it_raw_data_pop_w = it_raw_data_pop_w.append(tmp[1:])\n",
    "    for c in codes:\n",
    "        print(\"\\t\",codes[c]) \n",
    "        pytrend.build_payload(kw_list,geo=c,timeframe=timeframe)\n",
    "        if i == 1:\n",
    "            raw_data_pop_w[c] = pytrend.interest_over_time().drop(\"isPartial\", axis=1)\n",
    "            raw_data_pop_w[c][kw_list[0]] *= pops[c]\n",
    "        else:\n",
    "            tmp = pytrend.interest_over_time().drop(\"isPartial\", axis=1)\n",
    "            tmp *= pops[c]\n",
    "            tmp *= raw_data_pop_w[c][kw_list[0]].iloc[-1]/tmp[kw_list[0]].iloc[0]\n",
    "            raw_data_pop_w[c] = raw_data_pop_w[c].append(tmp[1:])\n"
   ]
  },
  {
   "cell_type": "code",
   "execution_count": 5,
   "metadata": {
    "ExecuteTime": {
     "end_time": "2020-04-09T13:20:22.221371Z",
     "start_time": "2020-04-09T13:14:23.757020Z"
    },
    "scrolled": true
   },
   "outputs": [
    {
     "name": "stdout",
     "output_type": "stream",
     "text": [
      "IBRW\n",
      "2020-01-15 2020-01-24\n",
      "\t Abruzzo\n",
      "\t Basilicata\n",
      "\t Calabria\n",
      "\t Campania\n",
      "\t Emilia-Romagna\n",
      "\t Lazio\n",
      "\t Liguria\n",
      "\t Lombardia\n",
      "\t Marche\n",
      "\t Molise\n",
      "\t Piemonte\n",
      "\t Puglia\n",
      "\t Toscana\n",
      "\t Umbria\n",
      "\t Veneto\n",
      "\t Friuli-Venezia Giulia\n",
      "\t Sardegna\n",
      "\t Sicilia\n",
      "\t Trentino-Alto Adige\n",
      "\t Valle d'Aosta\n",
      "2020-01-24 2020-02-10\n",
      "\t Abruzzo\n",
      "\t Basilicata\n",
      "\t Calabria\n",
      "\t Campania\n",
      "\t Emilia-Romagna\n",
      "\t Lazio\n"
     ]
    },
    {
     "ename": "ResponseError",
     "evalue": "The request failed: Google returned a response with code 429.",
     "output_type": "error",
     "traceback": [
      "\u001b[0;31m---------------------------------------------------------------------------\u001b[0m",
      "\u001b[0;31mResponseError\u001b[0m                             Traceback (most recent call last)",
      "\u001b[0;32m<ipython-input-5-4173cb35ed97>\u001b[0m in \u001b[0;36m<module>\u001b[0;34m\u001b[0m\n\u001b[1;32m     20\u001b[0m     \u001b[0;32mfor\u001b[0m \u001b[0mc\u001b[0m \u001b[0;32min\u001b[0m \u001b[0mcodes\u001b[0m\u001b[0;34m:\u001b[0m\u001b[0;34m\u001b[0m\u001b[0;34m\u001b[0m\u001b[0m\n\u001b[1;32m     21\u001b[0m         \u001b[0mprint\u001b[0m\u001b[0;34m(\u001b[0m\u001b[0;34m\"\\t\"\u001b[0m\u001b[0;34m,\u001b[0m\u001b[0mcodes\u001b[0m\u001b[0;34m[\u001b[0m\u001b[0mc\u001b[0m\u001b[0;34m]\u001b[0m\u001b[0;34m)\u001b[0m\u001b[0;34m\u001b[0m\u001b[0;34m\u001b[0m\u001b[0m\n\u001b[0;32m---> 22\u001b[0;31m         \u001b[0mpytrend\u001b[0m\u001b[0;34m.\u001b[0m\u001b[0mbuild_payload\u001b[0m\u001b[0;34m(\u001b[0m\u001b[0mkw_list\u001b[0m\u001b[0;34m,\u001b[0m\u001b[0mgeo\u001b[0m\u001b[0;34m=\u001b[0m\u001b[0mc\u001b[0m\u001b[0;34m,\u001b[0m\u001b[0mtimeframe\u001b[0m\u001b[0;34m=\u001b[0m\u001b[0mtimeframe\u001b[0m\u001b[0;34m)\u001b[0m\u001b[0;34m\u001b[0m\u001b[0;34m\u001b[0m\u001b[0m\n\u001b[0m\u001b[1;32m     23\u001b[0m         \u001b[0;32mif\u001b[0m \u001b[0mi\u001b[0m \u001b[0;34m==\u001b[0m \u001b[0;36m1\u001b[0m\u001b[0;34m:\u001b[0m\u001b[0;34m\u001b[0m\u001b[0;34m\u001b[0m\u001b[0m\n\u001b[1;32m     24\u001b[0m             \u001b[0mraw_data_ibr_w\u001b[0m\u001b[0;34m[\u001b[0m\u001b[0mc\u001b[0m\u001b[0;34m]\u001b[0m \u001b[0;34m=\u001b[0m \u001b[0mpytrend\u001b[0m\u001b[0;34m.\u001b[0m\u001b[0minterest_over_time\u001b[0m\u001b[0;34m(\u001b[0m\u001b[0;34m)\u001b[0m\u001b[0;34m.\u001b[0m\u001b[0mdrop\u001b[0m\u001b[0;34m(\u001b[0m\u001b[0;34m\"isPartial\"\u001b[0m\u001b[0;34m,\u001b[0m \u001b[0maxis\u001b[0m\u001b[0;34m=\u001b[0m\u001b[0;36m1\u001b[0m\u001b[0;34m)\u001b[0m\u001b[0;34m\u001b[0m\u001b[0;34m\u001b[0m\u001b[0m\n",
      "\u001b[0;32m~/.local/share/virtualenvs/covid-8MZFs_Ml/lib/python3.8/site-packages/pytrends/request.py\u001b[0m in \u001b[0;36mbuild_payload\u001b[0;34m(self, kw_list, cat, timeframe, geo, gprop)\u001b[0m\n\u001b[1;32m    165\u001b[0m         \u001b[0mself\u001b[0m\u001b[0;34m.\u001b[0m\u001b[0mtoken_payload\u001b[0m\u001b[0;34m[\u001b[0m\u001b[0;34m'req'\u001b[0m\u001b[0;34m]\u001b[0m \u001b[0;34m=\u001b[0m \u001b[0mjson\u001b[0m\u001b[0;34m.\u001b[0m\u001b[0mdumps\u001b[0m\u001b[0;34m(\u001b[0m\u001b[0mself\u001b[0m\u001b[0;34m.\u001b[0m\u001b[0mtoken_payload\u001b[0m\u001b[0;34m[\u001b[0m\u001b[0;34m'req'\u001b[0m\u001b[0;34m]\u001b[0m\u001b[0;34m)\u001b[0m\u001b[0;34m\u001b[0m\u001b[0;34m\u001b[0m\u001b[0m\n\u001b[1;32m    166\u001b[0m         \u001b[0;31m# get tokens\u001b[0m\u001b[0;34m\u001b[0m\u001b[0;34m\u001b[0m\u001b[0;34m\u001b[0m\u001b[0m\n\u001b[0;32m--> 167\u001b[0;31m         \u001b[0mself\u001b[0m\u001b[0;34m.\u001b[0m\u001b[0m_tokens\u001b[0m\u001b[0;34m(\u001b[0m\u001b[0;34m)\u001b[0m\u001b[0;34m\u001b[0m\u001b[0;34m\u001b[0m\u001b[0m\n\u001b[0m\u001b[1;32m    168\u001b[0m         \u001b[0;32mreturn\u001b[0m\u001b[0;34m\u001b[0m\u001b[0;34m\u001b[0m\u001b[0m\n\u001b[1;32m    169\u001b[0m \u001b[0;34m\u001b[0m\u001b[0m\n",
      "\u001b[0;32m~/.local/share/virtualenvs/covid-8MZFs_Ml/lib/python3.8/site-packages/pytrends/request.py\u001b[0m in \u001b[0;36m_tokens\u001b[0;34m(self)\u001b[0m\n\u001b[1;32m    171\u001b[0m         \u001b[0;34m\"\"\"Makes request to Google to get API tokens for interest over time, interest by region and related queries\"\"\"\u001b[0m\u001b[0;34m\u001b[0m\u001b[0;34m\u001b[0m\u001b[0m\n\u001b[1;32m    172\u001b[0m         \u001b[0;31m# make the request and parse the returned json\u001b[0m\u001b[0;34m\u001b[0m\u001b[0;34m\u001b[0m\u001b[0;34m\u001b[0m\u001b[0m\n\u001b[0;32m--> 173\u001b[0;31m         widget_dict = self._get_data(\n\u001b[0m\u001b[1;32m    174\u001b[0m             \u001b[0murl\u001b[0m\u001b[0;34m=\u001b[0m\u001b[0mTrendReq\u001b[0m\u001b[0;34m.\u001b[0m\u001b[0mGENERAL_URL\u001b[0m\u001b[0;34m,\u001b[0m\u001b[0;34m\u001b[0m\u001b[0;34m\u001b[0m\u001b[0m\n\u001b[1;32m    175\u001b[0m             \u001b[0mmethod\u001b[0m\u001b[0;34m=\u001b[0m\u001b[0mTrendReq\u001b[0m\u001b[0;34m.\u001b[0m\u001b[0mGET_METHOD\u001b[0m\u001b[0;34m,\u001b[0m\u001b[0;34m\u001b[0m\u001b[0;34m\u001b[0m\u001b[0m\n",
      "\u001b[0;32m~/.local/share/virtualenvs/covid-8MZFs_Ml/lib/python3.8/site-packages/pytrends/request.py\u001b[0m in \u001b[0;36m_get_data\u001b[0;34m(self, url, method, trim_chars, **kwargs)\u001b[0m\n\u001b[1;32m    141\u001b[0m         \u001b[0;32melse\u001b[0m\u001b[0;34m:\u001b[0m\u001b[0;34m\u001b[0m\u001b[0;34m\u001b[0m\u001b[0m\n\u001b[1;32m    142\u001b[0m             \u001b[0;31m# error\u001b[0m\u001b[0;34m\u001b[0m\u001b[0;34m\u001b[0m\u001b[0;34m\u001b[0m\u001b[0m\n\u001b[0;32m--> 143\u001b[0;31m             raise exceptions.ResponseError(\n\u001b[0m\u001b[1;32m    144\u001b[0m                 \u001b[0;34m'The request failed: Google returned a '\u001b[0m\u001b[0;34m\u001b[0m\u001b[0;34m\u001b[0m\u001b[0m\n\u001b[1;32m    145\u001b[0m                 \u001b[0;34m'response with code {0}.'\u001b[0m\u001b[0;34m.\u001b[0m\u001b[0mformat\u001b[0m\u001b[0;34m(\u001b[0m\u001b[0mresponse\u001b[0m\u001b[0;34m.\u001b[0m\u001b[0mstatus_code\u001b[0m\u001b[0;34m)\u001b[0m\u001b[0;34m,\u001b[0m\u001b[0;34m\u001b[0m\u001b[0;34m\u001b[0m\u001b[0m\n",
      "\u001b[0;31mResponseError\u001b[0m: The request failed: Google returned a response with code 429."
     ]
    }
   ],
   "source": [
    "raw_data_ibr_w = {}\n",
    "it_raw_data_ibr_w = {}\n",
    "\n",
    "print(\"IBRW\")\n",
    "\n",
    "for i in range(1,len(milestones)):\n",
    "    timeframe = milestones[i-1] + \" \" + milestones[i]\n",
    "    print(timeframe)\n",
    "    c = \"IT\"\n",
    "    pytrend.build_payload(kw_list,geo=c,timeframe=timeframe)\n",
    "    dfr = pytrend.interest_by_region(inc_low_vol=True, inc_geo_code=True)\n",
    "    if i == 1:\n",
    "        it_raw_data_ibr_w = pytrend.interest_over_time().drop(\"isPartial\", axis=1)\n",
    "        it_raw_data_ibr_w *= dfr[kw_list[0]].sum()\n",
    "    else:\n",
    "        tmp = pytrend.interest_over_time().drop(\"isPartial\", axis=1)\n",
    "        tmp *= dfr[kw_list[0]].sum()\n",
    "        tmp *= it_raw_data_ibr_w[kw_list[0]].iloc[-1]/tmp[kw_list[0]].iloc[0]\n",
    "        it_raw_data_ibr_w = it_raw_data_ibr_w.append(tmp[1:])\n",
    "    for c in codes:\n",
    "        print(\"\\t\",codes[c]) \n",
    "        pytrend.build_payload(kw_list,geo=c,timeframe=timeframe)\n",
    "        if i == 1:\n",
    "            raw_data_ibr_w[c] = pytrend.interest_over_time().drop(\"isPartial\", axis=1)\n",
    "            raw_data_ibr_w[c][kw_list[0]] *= float(dfr[dfr[\"geoCode\"] == c][kw_list[0]])\n",
    "        else:\n",
    "            tmp = pytrend.interest_over_time().drop(\"isPartial\", axis=1)\n",
    "            tmp *= float(dfr[dfr[\"geoCode\"] == c][kw_list[0]])\n",
    "            tmp *= raw_data_ibr_w[c][kw_list[0]].iloc[-1]/tmp[kw_list[0]].iloc[0]\n",
    "            raw_data_ibr_w[c] = raw_data_ibr_w[c].append(tmp[1:])\n",
    "\n"
   ]
  },
  {
   "cell_type": "code",
   "execution_count": null,
   "metadata": {
    "ExecuteTime": {
     "end_time": "2020-04-09T13:22:29.389336Z",
     "start_time": "2020-04-09T13:22:29.380787Z"
    }
   },
   "outputs": [],
   "source": [
    "\n",
    "with open( \"it_raw_data_pop_w.p\", \"wb\" ) as f:\n",
    "    pickle.dump( it_raw_data_pop_w, f)\n",
    "with open( \"raw_data_pop_w.p\", \"wb\" ) as f:\n",
    "    pickle.dump( raw_data_pop_w, f )\n",
    "with open( \"it_raw_data_ibr_w.p\", \"wb\" ) as f:\n",
    "    pickle.dump( it_raw_data_ibr_w, f )\n",
    "with open( \"raw_data_ibr_w.p\", \"wb\" ) as f:\n",
    "    pickle.dump( raw_data_ibr_w, f )\n"
   ]
  },
  {
   "cell_type": "code",
   "execution_count": null,
   "metadata": {
    "ExecuteTime": {
     "end_time": "2020-04-09T13:22:51.077649Z",
     "start_time": "2020-04-09T13:22:33.029409Z"
    },
    "scrolled": true
   },
   "outputs": [],
   "source": [
    "it_raw_data_pop_w.plot()\n",
    "for c in raw_data_pop_w:\n",
    "    print(c)\n",
    "    raw_data_pop_w[c].plot()\n",
    "    plt.show()"
   ]
  },
  {
   "cell_type": "code",
   "execution_count": null,
   "metadata": {
    "ExecuteTime": {
     "end_time": "2020-04-09T13:25:48.148800Z",
     "start_time": "2020-04-09T13:25:47.676139Z"
    }
   },
   "outputs": [],
   "source": [
    "tmp = copy.deepcopy(raw_data_pop_w[c])\n",
    "tmp[\"coronavirus\"] = 0\n",
    "for v in raw_data_pop_w.values():\n",
    "    tmp[\"coronavirus\"] += v[\"coronavirus\"]\n",
    "    \n",
    "summed_pop = np.array(tmp[\"coronavirus\"].tolist())\n",
    "nation = np.array(it_raw_data_pop_w[\"coronavirus\"].tolist())\n",
    "plt.plot(summed_pop)\n",
    "plt.plot(nation)\n",
    "#plt.yscale(\"log\")\n",
    "plt.show()\n",
    "plt.plot(summed_pop/nation)"
   ]
  },
  {
   "cell_type": "code",
   "execution_count": null,
   "metadata": {
    "ExecuteTime": {
     "end_time": "2020-04-09T13:23:21.666875Z",
     "start_time": "2020-04-09T13:23:03.988984Z"
    },
    "scrolled": true
   },
   "outputs": [],
   "source": [
    "it_raw_data_ibr_w.plot()\n",
    "for c in raw_data_ibr_w:\n",
    "    print(c)\n",
    "    raw_data_ibr_w[c].plot()\n",
    "    plt.show()"
   ]
  },
  {
   "cell_type": "code",
   "execution_count": null,
   "metadata": {
    "ExecuteTime": {
     "end_time": "2020-04-09T13:26:00.603542Z",
     "start_time": "2020-04-09T13:26:00.141343Z"
    }
   },
   "outputs": [],
   "source": [
    "tmp = copy.deepcopy(raw_data_ibr_w[c])\n",
    "tmp[\"coronavirus\"] = 0\n",
    "for v in raw_data_ibr_w.values():\n",
    "    tmp[\"coronavirus\"] += v[\"coronavirus\"]\n",
    "\n",
    "summed_ibr = np.array(tmp[\"coronavirus\"].tolist())\n",
    "nation = np.array(it_raw_data_ibr_w[\"coronavirus\"].tolist())\n",
    "plt.plot(summed_ibr)\n",
    "plt.plot(nation)\n",
    "#plt.yscale(\"log\")\n",
    "plt.show()\n",
    "plt.plot(summed_ibr/nation)"
   ]
  },
  {
   "cell_type": "code",
   "execution_count": null,
   "metadata": {},
   "outputs": [],
   "source": []
  },
  {
   "cell_type": "code",
   "execution_count": null,
   "metadata": {
    "ExecuteTime": {
     "end_time": "2020-04-09T13:24:00.315733Z",
     "start_time": "2020-04-09T13:24:00.033022Z"
    }
   },
   "outputs": [],
   "source": [
    "plt.plot(summed_pop)\n",
    "plt.plot(summed_ibr)\n",
    "plt.yscale(\"log\")"
   ]
  },
  {
   "cell_type": "code",
   "execution_count": null,
   "metadata": {},
   "outputs": [],
   "source": []
  },
  {
   "cell_type": "code",
   "execution_count": null,
   "metadata": {
    "ExecuteTime": {
     "end_time": "2020-04-09T13:24:09.903684Z",
     "start_time": "2020-04-09T13:24:09.595607Z"
    }
   },
   "outputs": [],
   "source": [
    "plt.plot(summed_pop/summed_ibr)\n",
    "plt.yscale(\"log\")"
   ]
  },
  {
   "cell_type": "code",
   "execution_count": null,
   "metadata": {
    "ExecuteTime": {
     "end_time": "2020-04-09T13:24:15.292922Z",
     "start_time": "2020-04-09T13:24:15.266210Z"
    },
    "scrolled": false
   },
   "outputs": [],
   "source": [
    "for i in it_raw_data_ibr_w.iterrows():\n",
    "    print(str(i[0].date()),int(i[1]))"
   ]
  },
  {
   "cell_type": "code",
   "execution_count": null,
   "metadata": {},
   "outputs": [],
   "source": []
  },
  {
   "cell_type": "code",
   "execution_count": null,
   "metadata": {},
   "outputs": [],
   "source": []
  },
  {
   "cell_type": "code",
   "execution_count": null,
   "metadata": {},
   "outputs": [],
   "source": []
  }
 ],
 "metadata": {
  "kernelspec": {
   "display_name": "Python 3",
   "language": "python",
   "name": "python3"
  },
  "language_info": {
   "codemirror_mode": {
    "name": "ipython",
    "version": 3
   },
   "file_extension": ".py",
   "mimetype": "text/x-python",
   "name": "python",
   "nbconvert_exporter": "python",
   "pygments_lexer": "ipython3",
   "version": "3.8.1"
  }
 },
 "nbformat": 4,
 "nbformat_minor": 2
}
