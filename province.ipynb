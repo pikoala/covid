{
 "cells": [
  {
   "cell_type": "code",
   "execution_count": 1,
   "metadata": {},
   "outputs": [
    {
     "name": "stdout",
     "output_type": "stream",
     "text": [
      "Populating the interactive namespace from numpy and matplotlib\n"
     ]
    }
   ],
   "source": [
    "%pylab inline\n",
    "import pandas as pd\n",
    "import seaborn as sns\n",
    "from io import StringIO\n",
    "import requests\n",
    "import json\n",
    "import plotly.express as px\n",
    "import ipywidgets as widgets\n",
    "from datetime import datetime\n"
   ]
  },
  {
   "cell_type": "markdown",
   "metadata": {},
   "source": [
    "# Get Covid data"
   ]
  },
  {
   "cell_type": "code",
   "execution_count": 2,
   "metadata": {},
   "outputs": [
    {
     "name": "stdout",
     "output_type": "stream",
     "text": [
      "got file for date 20200224\n",
      "got file for date 20200225\n",
      "got file for date 20200226\n",
      "got file for date 20200227\n",
      "got file for date 20200228\n",
      "got file for date 20200229\n",
      "got file for date 20200301\n",
      "got file for date 20200302\n",
      "got file for date 20200303\n",
      "got file for date 20200304\n",
      "got file for date 20200305\n",
      "got file for date 20200306\n",
      "got file for date 20200307\n",
      "got file for date 20200308\n",
      "got file for date 20200309\n",
      "got file for date 20200310\n",
      "got file for date 20200311\n",
      "got file for date 20200312\n",
      "got file for date 20200313\n",
      "got file for date 20200314\n",
      "got file for date 20200315\n",
      "got file for date 20200316\n",
      "got file for date 20200317\n",
      "got file for date 20200318\n",
      "got file for date 20200319\n",
      "got file for date 20200320\n",
      "got file for date 20200321\n",
      "got file for date 20200322\n",
      "no file for date 20200323\n",
      "no file for date 20200324\n",
      "no file for date 20200325\n",
      "no file for date 20200326\n",
      "no file for date 20200327\n",
      "no file for date 20200328\n",
      "no file for date 20200329\n",
      "no file for date 20200330\n",
      "no file for date 20200331\n",
      "last available file for 2020-03-22 00:00:00 \n"
     ]
    },
    {
     "data": {
      "text/html": [
       "<div>\n",
       "<style scoped>\n",
       "    .dataframe tbody tr th:only-of-type {\n",
       "        vertical-align: middle;\n",
       "    }\n",
       "\n",
       "    .dataframe tbody tr th {\n",
       "        vertical-align: top;\n",
       "    }\n",
       "\n",
       "    .dataframe thead th {\n",
       "        text-align: right;\n",
       "    }\n",
       "</style>\n",
       "<table border=\"1\" class=\"dataframe\">\n",
       "  <thead>\n",
       "    <tr style=\"text-align: right;\">\n",
       "      <th></th>\n",
       "      <th>data</th>\n",
       "      <th>stato</th>\n",
       "      <th>codice_regione</th>\n",
       "      <th>denominazione_regione</th>\n",
       "      <th>codice_provincia</th>\n",
       "      <th>denominazione_provincia</th>\n",
       "      <th>sigla_provincia</th>\n",
       "      <th>lat</th>\n",
       "      <th>long</th>\n",
       "      <th>totale_casi</th>\n",
       "    </tr>\n",
       "  </thead>\n",
       "  <tbody>\n",
       "    <tr>\n",
       "      <th>0</th>\n",
       "      <td>2020-03-22 17:00:00</td>\n",
       "      <td>ITA</td>\n",
       "      <td>13</td>\n",
       "      <td>Abruzzo</td>\n",
       "      <td>69</td>\n",
       "      <td>Chieti</td>\n",
       "      <td>CH</td>\n",
       "      <td>42.351032</td>\n",
       "      <td>14.167546</td>\n",
       "      <td>102</td>\n",
       "    </tr>\n",
       "    <tr>\n",
       "      <th>1</th>\n",
       "      <td>2020-03-22 17:00:00</td>\n",
       "      <td>ITA</td>\n",
       "      <td>13</td>\n",
       "      <td>Abruzzo</td>\n",
       "      <td>66</td>\n",
       "      <td>L'Aquila</td>\n",
       "      <td>AQ</td>\n",
       "      <td>42.351222</td>\n",
       "      <td>13.398438</td>\n",
       "      <td>38</td>\n",
       "    </tr>\n",
       "    <tr>\n",
       "      <th>2</th>\n",
       "      <td>2020-03-22 17:00:00</td>\n",
       "      <td>ITA</td>\n",
       "      <td>13</td>\n",
       "      <td>Abruzzo</td>\n",
       "      <td>68</td>\n",
       "      <td>Pescara</td>\n",
       "      <td>PE</td>\n",
       "      <td>42.464584</td>\n",
       "      <td>14.213648</td>\n",
       "      <td>334</td>\n",
       "    </tr>\n",
       "    <tr>\n",
       "      <th>3</th>\n",
       "      <td>2020-03-22 17:00:00</td>\n",
       "      <td>ITA</td>\n",
       "      <td>13</td>\n",
       "      <td>Abruzzo</td>\n",
       "      <td>67</td>\n",
       "      <td>Teramo</td>\n",
       "      <td>TE</td>\n",
       "      <td>42.658918</td>\n",
       "      <td>13.704400</td>\n",
       "      <td>113</td>\n",
       "    </tr>\n",
       "    <tr>\n",
       "      <th>5</th>\n",
       "      <td>2020-03-22 17:00:00</td>\n",
       "      <td>ITA</td>\n",
       "      <td>17</td>\n",
       "      <td>Basilicata</td>\n",
       "      <td>77</td>\n",
       "      <td>Matera</td>\n",
       "      <td>MT</td>\n",
       "      <td>40.667512</td>\n",
       "      <td>16.597924</td>\n",
       "      <td>16</td>\n",
       "    </tr>\n",
       "  </tbody>\n",
       "</table>\n",
       "</div>"
      ],
      "text/plain": [
       "                  data stato  codice_regione denominazione_regione  \\\n",
       "0  2020-03-22 17:00:00   ITA              13               Abruzzo   \n",
       "1  2020-03-22 17:00:00   ITA              13               Abruzzo   \n",
       "2  2020-03-22 17:00:00   ITA              13               Abruzzo   \n",
       "3  2020-03-22 17:00:00   ITA              13               Abruzzo   \n",
       "5  2020-03-22 17:00:00   ITA              17            Basilicata   \n",
       "\n",
       "   codice_provincia denominazione_provincia sigla_provincia        lat  \\\n",
       "0                69                  Chieti              CH  42.351032   \n",
       "1                66                L'Aquila              AQ  42.351222   \n",
       "2                68                 Pescara              PE  42.464584   \n",
       "3                67                  Teramo              TE  42.658918   \n",
       "5                77                  Matera              MT  40.667512   \n",
       "\n",
       "        long  totale_casi  \n",
       "0  14.167546          102  \n",
       "1  13.398438           38  \n",
       "2  14.213648          334  \n",
       "3  13.704400          113  \n",
       "5  16.597924           16  "
      ]
     },
     "execution_count": 2,
     "metadata": {},
     "output_type": "execute_result"
    }
   ],
   "source": [
    "URL_province_covid=\"https://raw.githubusercontent.com/pcm-dpc/COVID-19/master/dati-province/dpc-covid19-ita-province-\"\n",
    "start_date = datetime(2020, 2, 24)\n",
    "end_date = datetime(2020, 3, 31)\n",
    "possible_dates = pd.date_range(start=start_date, end=end_date, freq='D')\n",
    "\n",
    "\n",
    "def getLatestFiles(url, possible_dates):\n",
    "    files={}\n",
    "    for d in possible_dates:\n",
    "        datestring= d.strftime(\"%Y%m%d\")\n",
    "        s=requests.get(url + datestring +\".csv\")\n",
    "        if s.status_code == 200:\n",
    "            df = pd.read_csv(StringIO(s.text))\n",
    "            df = df.dropna(subset=['sigla_provincia'])\n",
    "            df[['totale_casi']] = df[['totale_casi']].astype(int)\n",
    "            files[d] = df\n",
    "            print(\"got file for date %s\" % datestring)\n",
    "            # print(df.shape)\n",
    "        else: \n",
    "            print(\"no file for date %s\" % datestring)\n",
    "    return files\n",
    "\n",
    "files = getLatestFiles(URL_province_covid, possible_dates)\n",
    "last_file_date = max(k for k, v in files.items())\n",
    "print(\"last available file for %s \" % last_file_date)\n",
    "files[last_file_date].head()\n",
    "\n"
   ]
  },
  {
   "cell_type": "markdown",
   "metadata": {},
   "source": [
    "# Get GeoJson for Italy"
   ]
  },
  {
   "cell_type": "code",
   "execution_count": 3,
   "metadata": {},
   "outputs": [
    {
     "data": {
      "text/plain": [
       "107"
      ]
     },
     "execution_count": 3,
     "metadata": {},
     "output_type": "execute_result"
    }
   ],
   "source": [
    "URL_province_geojson=\"https://raw.githubusercontent.com/openpolis/geojson-italy/master/geojson/limits_IT_provinces.geojson\"\n",
    "\n",
    "def getGeoJson(url):\n",
    "    try: \n",
    "        s=requests.get(url)\n",
    "        return json.load(StringIO(s.text))\n",
    "    except HTTPError as e:\n",
    "        # Need to check its an 404, 503, 500, 403 etc.\n",
    "        print(\"http error %s\" % e.response.status_code)\n",
    "\n",
    "geojson_province = getGeoJson(URL_province_geojson)\n",
    "\n",
    "len([g['properties']['prov_acr'] for g in geojson_province['features']])\n",
    "    "
   ]
  },
  {
   "cell_type": "markdown",
   "metadata": {},
   "source": [
    "# Maps"
   ]
  },
  {
   "cell_type": "code",
   "execution_count": null,
   "metadata": {},
   "outputs": [],
   "source": [
    "def province_map(file, title):\n",
    "    fig = px.choropleth(file, geojson=geojson_province, \n",
    "                        color=\"totale_casi\",\n",
    "                        locations=\"sigla_provincia\", \n",
    "                        featureidkey=\"properties.prov_acr\",\n",
    "                        projection=\"mercator\",\n",
    "                        hover_data=[\"denominazione_provincia\", \"sigla_provincia\", \"totale_casi\"]\n",
    "                       )\n",
    "    fig.update_geos(fitbounds=\"locations\", visible=False)\n",
    "    fig.update_layout(\n",
    "        margin={\"r\":0,\"t\":30,\"l\":0,\"b\":0},\n",
    "        title_text = title,\n",
    "        title_font_size=20\n",
    "        #geo_scope='europe', # limite map scope to Europe\n",
    "    )\n",
    "    \n",
    "    return fig"
   ]
  },
  {
   "cell_type": "code",
   "execution_count": null,
   "metadata": {},
   "outputs": [],
   "source": [
    "available_dates = pd.date_range(start=start_date, end=last_file_date, freq='D')\n",
    "options = [(date.strftime(' %d/%m/%Y '), date) for date in available_dates]\n",
    "\n",
    "selection_slider = widgets.SelectionSlider(\n",
    "    options = options,\n",
    "    description='Date',\n",
    "    continuous_update=False,\n",
    "    orientation='horizontal',\n",
    "    readout=True,\n",
    "    layout={'width': '600px'}\n",
    ")"
   ]
  },
  {
   "cell_type": "code",
   "execution_count": 85,
   "metadata": {},
   "outputs": [
    {
     "data": {
      "application/vnd.jupyter.widget-view+json": {
       "model_id": "f48e545909a646e7bfb36ac59605c7d5",
       "version_major": 2,
       "version_minor": 0
      },
      "text/plain": [
       "interactive(children=(SelectionSlider(continuous_update=False, description='Date', layout=Layout(width='600px'…"
      ]
     },
     "metadata": {},
     "output_type": "display_data"
    }
   ],
   "source": [
    "def update_map(date):\n",
    "    title = \"Total cases for %s \"% date.strftime(\"%d %b %Y\")\n",
    "    fig = province_map(files[date], title )\n",
    "    fig.show()\n",
    "    \n",
    "\n",
    "widgets.interact(\n",
    "    update_map,\n",
    "    date=selection_slider\n",
    ");"
   ]
  },
  {
   "cell_type": "code",
   "execution_count": 82,
   "metadata": {},
   "outputs": [],
   "source": [
    "def diff_dates(date_range):\n",
    "    title = \"Total increase between %s and %s \" % (date_range[0].strftime(\"%d %b %Y\"), date_range[1].strftime(\"%d %b %Y\"))\n",
    "    diff = files[date_range[0]].loc[:, ('sigla_provincia','denominazione_provincia' ,'totale_casi')]\n",
    "    diff = diff.rename(columns={\"totale_casi\": \"totale_casi_first\"})\n",
    "    diff['totale_casi_second']= files[date_range[1]].loc[:, ('totale_casi')]\n",
    "    diff['totale_casi'] = diff['totale_casi_second'] - diff['totale_casi_first']\n",
    "    diff.head()\n",
    "    fig = province_map(diff, title)\n",
    "    fig.show()\n",
    "    print(\"done\")\n",
    "    \n"
   ]
  },
  {
   "cell_type": "code",
   "execution_count": 88,
   "metadata": {},
   "outputs": [],
   "source": [
    "index = (0, len(options)-1)\n",
    "selection_range_slider = widgets.SelectionRangeSlider(\n",
    "    options=options,\n",
    "    index=index,\n",
    "    description='Dates',\n",
    "    continuous_update=False,\n",
    "    orientation='horizontal',\n",
    "    readout=True,\n",
    "    layout={'width': '600px'}\n",
    ")\n"
   ]
  },
  {
   "cell_type": "code",
   "execution_count": 89,
   "metadata": {},
   "outputs": [
    {
     "data": {
      "application/vnd.jupyter.widget-view+json": {
       "model_id": "4f8fb81c537f4c4db0662de3f4511c37",
       "version_major": 2,
       "version_minor": 0
      },
      "text/plain": [
       "interactive(children=(SelectionRangeSlider(continuous_update=False, description='Dates', index=(0, 27), layout…"
      ]
     },
     "metadata": {},
     "output_type": "display_data"
    }
   ],
   "source": [
    "\n",
    "widgets.interact(\n",
    "    diff_dates,\n",
    "    date_range=selection_range_slider\n",
    ");\n"
   ]
  },
  {
   "cell_type": "code",
   "execution_count": null,
   "metadata": {},
   "outputs": [],
   "source": []
  },
  {
   "cell_type": "code",
   "execution_count": null,
   "metadata": {},
   "outputs": [],
   "source": []
  },
  {
   "cell_type": "code",
   "execution_count": null,
   "metadata": {},
   "outputs": [],
   "source": [
    "\n"
   ]
  },
  {
   "cell_type": "code",
   "execution_count": 205,
   "metadata": {},
   "outputs": [
    {
     "data": {
      "application/vnd.jupyter.widget-view+json": {
       "model_id": "99bb101d53b34dae82b580ac5e27e007",
       "version_major": 2,
       "version_minor": 0
      },
      "text/plain": [
       "Button(description='Click me', icon='check', style=ButtonStyle(), tooltip='Click me')"
      ]
     },
     "metadata": {},
     "output_type": "display_data"
    }
   ],
   "source": [
    "\n",
    "widgets.Button(\n",
    "    description='Click me',\n",
    "    disabled=False,\n",
    "    button_style='', # 'success', 'info', 'warning', 'danger' or ''\n",
    "    tooltip='Click me',\n",
    "    icon='check' # (FontAwesome names without the `fa-` prefix)\n",
    ")"
   ]
  },
  {
   "cell_type": "code",
   "execution_count": null,
   "metadata": {},
   "outputs": [],
   "source": []
  }
 ],
 "metadata": {
  "kernelspec": {
   "display_name": "Python 3",
   "language": "python",
   "name": "python3"
  },
  "language_info": {
   "codemirror_mode": {
    "name": "ipython",
    "version": 3
   },
   "file_extension": ".py",
   "mimetype": "text/x-python",
   "name": "python",
   "nbconvert_exporter": "python",
   "pygments_lexer": "ipython3",
   "version": "3.8.1"
  }
 },
 "nbformat": 4,
 "nbformat_minor": 4
}
